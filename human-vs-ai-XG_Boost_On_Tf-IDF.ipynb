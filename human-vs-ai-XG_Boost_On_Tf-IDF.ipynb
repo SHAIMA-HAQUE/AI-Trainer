{
 "cells": [
  {
   "cell_type": "code",
   "execution_count": 1,
   "id": "dfeebdf7",
   "metadata": {
    "_cell_guid": "b1076dfc-b9ad-4769-8c92-a6c4dae69d19",
    "_uuid": "8f2839f25d086af736a60e9eeb907d3b93b6e0e5",
    "execution": {
     "iopub.execute_input": "2024-04-09T19:58:41.120190Z",
     "iopub.status.busy": "2024-04-09T19:58:41.119799Z",
     "iopub.status.idle": "2024-04-09T19:58:41.926219Z",
     "shell.execute_reply": "2024-04-09T19:58:41.924702Z"
    },
    "papermill": {
     "duration": 0.816393,
     "end_time": "2024-04-09T19:58:41.928547",
     "exception": false,
     "start_time": "2024-04-09T19:58:41.112154",
     "status": "completed"
    },
    "tags": []
   },
   "outputs": [
    {
     "name": "stdout",
     "output_type": "stream",
     "text": [
      "/kaggle/input/daigt-proper-train-dataset/train_drcat_03.csv\n",
      "/kaggle/input/daigt-proper-train-dataset/train_drcat_02.csv\n",
      "/kaggle/input/daigt-proper-train-dataset/train_drcat_04.csv\n",
      "/kaggle/input/daigt-proper-train-dataset/train_drcat_01.csv\n",
      "/kaggle/input/llm-detect-ai-generated-text/sample_submission.csv\n",
      "/kaggle/input/llm-detect-ai-generated-text/train_prompts.csv\n",
      "/kaggle/input/llm-detect-ai-generated-text/test_essays.csv\n",
      "/kaggle/input/llm-detect-ai-generated-text/train_essays.csv\n"
     ]
    }
   ],
   "source": [
    "# This Python 3 environment comes with many helpful analytics libraries installed\n",
    "# It is defined by the kaggle/python Docker image: https://github.com/kaggle/docker-python\n",
    "# For example, here's several helpful packages to load\n",
    "\n",
    "import numpy as np # linear algebra\n",
    "import pandas as pd # data processing, CSV file I/O (e.g. pd.read_csv)\n",
    "\n",
    "# Input data files are available in the read-only \"../input/\" directory\n",
    "# For example, running this (by clicking run or pressing Shift+Enter) will list all files under the input directory\n",
    "\n",
    "import os\n",
    "for dirname, _, filenames in os.walk('/kaggle/input'):\n",
    "    for filename in filenames:\n",
    "        print(os.path.join(dirname, filename))\n",
    "\n",
    "# You can write up to 20GB to the current directory (/kaggle/working/) that gets preserved as output when you create a version using \"Save & Run All\" \n",
    "# You can also write temporary files to /kaggle/temp/, but they won't be saved outside of the current session"
   ]
  },
  {
   "cell_type": "markdown",
   "id": "5b79eba0",
   "metadata": {
    "papermill": {
     "duration": 0.005447,
     "end_time": "2024-04-09T19:58:41.940068",
     "exception": false,
     "start_time": "2024-04-09T19:58:41.934621",
     "status": "completed"
    },
    "tags": []
   },
   "source": [
    "Trying a simple approach for text classification which is to convert text passages into vectors and then use standard ML algorithms such as logistic regression or tree-based models\n",
    "\n",
    "Instead of using Deep learning methods we can use statistical methods like tf-idf + machine learning algorithms"
   ]
  },
  {
   "cell_type": "code",
   "execution_count": 2,
   "id": "8196eb7a",
   "metadata": {
    "execution": {
     "iopub.execute_input": "2024-04-09T19:58:41.953312Z",
     "iopub.status.busy": "2024-04-09T19:58:41.952837Z",
     "iopub.status.idle": "2024-04-09T19:58:43.597221Z",
     "shell.execute_reply": "2024-04-09T19:58:43.596090Z"
    },
    "papermill": {
     "duration": 1.653902,
     "end_time": "2024-04-09T19:58:43.599788",
     "exception": false,
     "start_time": "2024-04-09T19:58:41.945886",
     "status": "completed"
    },
    "tags": []
   },
   "outputs": [],
   "source": [
    "import numpy as np\n",
    "import pandas as pd\n",
    "from sklearn.metrics import roc_auc_score\n",
    "from sklearn.linear_model import LogisticRegression\n",
    "import xgboost as xgb\n",
    "from xgboost import XGBClassifier\n",
    "from sklearn.naive_bayes import GaussianNB\n",
    "from sklearn.model_selection import StratifiedKFold\n",
    "from sklearn.model_selection import KFold\n",
    "from sklearn.feature_extraction.text import TfidfVectorizer\n",
    "from sklearn.feature_extraction.text import CountVectorizer\n",
    "from sklearn.model_selection import train_test_split\n",
    "from sklearn.ensemble import VotingClassifier\n",
    "from sklearn.metrics import classification_report"
   ]
  },
  {
   "cell_type": "markdown",
   "id": "519ea452",
   "metadata": {
    "papermill": {
     "duration": 0.005375,
     "end_time": "2024-04-09T19:58:43.611441",
     "exception": false,
     "start_time": "2024-04-09T19:58:43.606066",
     "status": "completed"
    },
    "tags": []
   },
   "source": [
    "This time will consider the LLM-Detect AI Generated Text as test data and daigt as train data"
   ]
  },
  {
   "cell_type": "code",
   "execution_count": 3,
   "id": "ee4e157e",
   "metadata": {
    "execution": {
     "iopub.execute_input": "2024-04-09T19:58:43.624618Z",
     "iopub.status.busy": "2024-04-09T19:58:43.624153Z",
     "iopub.status.idle": "2024-04-09T19:58:46.442646Z",
     "shell.execute_reply": "2024-04-09T19:58:46.441735Z"
    },
    "papermill": {
     "duration": 2.827737,
     "end_time": "2024-04-09T19:58:46.445046",
     "exception": false,
     "start_time": "2024-04-09T19:58:43.617309",
     "status": "completed"
    },
    "tags": []
   },
   "outputs": [],
   "source": [
    "train = pd.read_csv('/kaggle/input/daigt-proper-train-dataset/train_drcat_04.csv')\n",
    "test = pd.read_csv('/kaggle/input/llm-detect-ai-generated-text/test_essays.csv')\n"
   ]
  },
  {
   "cell_type": "code",
   "execution_count": 4,
   "id": "212d5894",
   "metadata": {
    "execution": {
     "iopub.execute_input": "2024-04-09T19:58:46.458400Z",
     "iopub.status.busy": "2024-04-09T19:58:46.458024Z",
     "iopub.status.idle": "2024-04-09T19:58:46.476384Z",
     "shell.execute_reply": "2024-04-09T19:58:46.475350Z"
    },
    "papermill": {
     "duration": 0.027391,
     "end_time": "2024-04-09T19:58:46.478614",
     "exception": false,
     "start_time": "2024-04-09T19:58:46.451223",
     "status": "completed"
    },
    "tags": []
   },
   "outputs": [
    {
     "data": {
      "text/html": [
       "<div>\n",
       "<style scoped>\n",
       "    .dataframe tbody tr th:only-of-type {\n",
       "        vertical-align: middle;\n",
       "    }\n",
       "\n",
       "    .dataframe tbody tr th {\n",
       "        vertical-align: top;\n",
       "    }\n",
       "\n",
       "    .dataframe thead th {\n",
       "        text-align: right;\n",
       "    }\n",
       "</style>\n",
       "<table border=\"1\" class=\"dataframe\">\n",
       "  <thead>\n",
       "    <tr style=\"text-align: right;\">\n",
       "      <th></th>\n",
       "      <th>essay_id</th>\n",
       "      <th>text</th>\n",
       "      <th>label</th>\n",
       "      <th>source</th>\n",
       "      <th>prompt</th>\n",
       "      <th>fold</th>\n",
       "    </tr>\n",
       "  </thead>\n",
       "  <tbody>\n",
       "    <tr>\n",
       "      <th>0</th>\n",
       "      <td>E897534557AF</td>\n",
       "      <td>In recent years, technology has had a profoun...</td>\n",
       "      <td>1</td>\n",
       "      <td>mistral7binstruct_v2</td>\n",
       "      <td>\\nTask: Write an essay discussing the positive...</td>\n",
       "      <td>1</td>\n",
       "    </tr>\n",
       "    <tr>\n",
       "      <th>1</th>\n",
       "      <td>DFBA34FFE11D</td>\n",
       "      <td>Should students participate in an extracurricu...</td>\n",
       "      <td>0</td>\n",
       "      <td>persuade_corpus</td>\n",
       "      <td>NaN</td>\n",
       "      <td>2</td>\n",
       "    </tr>\n",
       "    <tr>\n",
       "      <th>2</th>\n",
       "      <td>af37ecf5</td>\n",
       "      <td>The electoral college is a symbol of mockery a...</td>\n",
       "      <td>0</td>\n",
       "      <td>train_essays</td>\n",
       "      <td>NaN</td>\n",
       "      <td>5</td>\n",
       "    </tr>\n",
       "    <tr>\n",
       "      <th>3</th>\n",
       "      <td>5EC2696BAD78</td>\n",
       "      <td>This is why I think the principle should allow...</td>\n",
       "      <td>0</td>\n",
       "      <td>persuade_corpus</td>\n",
       "      <td>NaN</td>\n",
       "      <td>8</td>\n",
       "    </tr>\n",
       "    <tr>\n",
       "      <th>4</th>\n",
       "      <td>llama_70b_v1843</td>\n",
       "      <td>I strongly believe that meditation and mindful...</td>\n",
       "      <td>1</td>\n",
       "      <td>llama_70b_v1</td>\n",
       "      <td>Some schools have implemented meditation and m...</td>\n",
       "      <td>0</td>\n",
       "    </tr>\n",
       "  </tbody>\n",
       "</table>\n",
       "</div>"
      ],
      "text/plain": [
       "          essay_id                                               text  label  \\\n",
       "0     E897534557AF   In recent years, technology has had a profoun...      1   \n",
       "1     DFBA34FFE11D  Should students participate in an extracurricu...      0   \n",
       "2         af37ecf5  The electoral college is a symbol of mockery a...      0   \n",
       "3     5EC2696BAD78  This is why I think the principle should allow...      0   \n",
       "4  llama_70b_v1843  I strongly believe that meditation and mindful...      1   \n",
       "\n",
       "                 source                                             prompt  \\\n",
       "0  mistral7binstruct_v2  \\nTask: Write an essay discussing the positive...   \n",
       "1       persuade_corpus                                                NaN   \n",
       "2          train_essays                                                NaN   \n",
       "3       persuade_corpus                                                NaN   \n",
       "4          llama_70b_v1  Some schools have implemented meditation and m...   \n",
       "\n",
       "   fold  \n",
       "0     1  \n",
       "1     2  \n",
       "2     5  \n",
       "3     8  \n",
       "4     0  "
      ]
     },
     "execution_count": 4,
     "metadata": {},
     "output_type": "execute_result"
    }
   ],
   "source": [
    "train.head()"
   ]
  },
  {
   "cell_type": "code",
   "execution_count": 5,
   "id": "7470f147",
   "metadata": {
    "execution": {
     "iopub.execute_input": "2024-04-09T19:58:46.493383Z",
     "iopub.status.busy": "2024-04-09T19:58:46.492893Z",
     "iopub.status.idle": "2024-04-09T19:58:46.797831Z",
     "shell.execute_reply": "2024-04-09T19:58:46.796487Z"
    },
    "papermill": {
     "duration": 0.314932,
     "end_time": "2024-04-09T19:58:46.800138",
     "exception": false,
     "start_time": "2024-04-09T19:58:46.485206",
     "status": "completed"
    },
    "tags": []
   },
   "outputs": [
    {
     "name": "stdout",
     "output_type": "stream",
     "text": [
      "train: label\n",
      "0    29792\n",
      "1    14414\n",
      "Name: count, dtype: int64\n",
      "unique essays: 44155\n"
     ]
    }
   ],
   "source": [
    "print(\"train:\",train.label.value_counts())\n",
    "print(\"unique essays:\",train['text'].nunique())"
   ]
  },
  {
   "cell_type": "code",
   "execution_count": 6,
   "id": "30416144",
   "metadata": {
    "execution": {
     "iopub.execute_input": "2024-04-09T19:58:46.814612Z",
     "iopub.status.busy": "2024-04-09T19:58:46.814260Z",
     "iopub.status.idle": "2024-04-09T19:58:46.828059Z",
     "shell.execute_reply": "2024-04-09T19:58:46.827114Z"
    },
    "papermill": {
     "duration": 0.023497,
     "end_time": "2024-04-09T19:58:46.830162",
     "exception": false,
     "start_time": "2024-04-09T19:58:46.806665",
     "status": "completed"
    },
    "tags": []
   },
   "outputs": [],
   "source": [
    "train.rename(columns = {'essay_id': 'id',\n",
    "                        'label' : 'generated',\n",
    "                        'prompt': 'prompt_id'}, inplace=True)\n",
    "train['prompt_id'] = pd.factorize(train['prompt_id'])[0]"
   ]
  },
  {
   "cell_type": "code",
   "execution_count": 7,
   "id": "f7f59d3b",
   "metadata": {
    "execution": {
     "iopub.execute_input": "2024-04-09T19:58:46.844704Z",
     "iopub.status.busy": "2024-04-09T19:58:46.844380Z",
     "iopub.status.idle": "2024-04-09T19:58:46.866899Z",
     "shell.execute_reply": "2024-04-09T19:58:46.865667Z"
    },
    "papermill": {
     "duration": 0.033109,
     "end_time": "2024-04-09T19:58:46.869974",
     "exception": false,
     "start_time": "2024-04-09T19:58:46.836865",
     "status": "completed"
    },
    "tags": []
   },
   "outputs": [
    {
     "data": {
      "text/html": [
       "<div>\n",
       "<style scoped>\n",
       "    .dataframe tbody tr th:only-of-type {\n",
       "        vertical-align: middle;\n",
       "    }\n",
       "\n",
       "    .dataframe tbody tr th {\n",
       "        vertical-align: top;\n",
       "    }\n",
       "\n",
       "    .dataframe thead th {\n",
       "        text-align: right;\n",
       "    }\n",
       "</style>\n",
       "<table border=\"1\" class=\"dataframe\">\n",
       "  <thead>\n",
       "    <tr style=\"text-align: right;\">\n",
       "      <th></th>\n",
       "      <th>id</th>\n",
       "      <th>prompt_id</th>\n",
       "      <th>text</th>\n",
       "      <th>generated</th>\n",
       "    </tr>\n",
       "  </thead>\n",
       "  <tbody>\n",
       "    <tr>\n",
       "      <th>0</th>\n",
       "      <td>E897534557AF</td>\n",
       "      <td>0</td>\n",
       "      <td>In recent years, technology has had a profoun...</td>\n",
       "      <td>1</td>\n",
       "    </tr>\n",
       "    <tr>\n",
       "      <th>1</th>\n",
       "      <td>DFBA34FFE11D</td>\n",
       "      <td>-1</td>\n",
       "      <td>Should students participate in an extracurricu...</td>\n",
       "      <td>0</td>\n",
       "    </tr>\n",
       "    <tr>\n",
       "      <th>2</th>\n",
       "      <td>af37ecf5</td>\n",
       "      <td>-1</td>\n",
       "      <td>The electoral college is a symbol of mockery a...</td>\n",
       "      <td>0</td>\n",
       "    </tr>\n",
       "    <tr>\n",
       "      <th>3</th>\n",
       "      <td>5EC2696BAD78</td>\n",
       "      <td>-1</td>\n",
       "      <td>This is why I think the principle should allow...</td>\n",
       "      <td>0</td>\n",
       "    </tr>\n",
       "    <tr>\n",
       "      <th>4</th>\n",
       "      <td>llama_70b_v1843</td>\n",
       "      <td>1</td>\n",
       "      <td>I strongly believe that meditation and mindful...</td>\n",
       "      <td>1</td>\n",
       "    </tr>\n",
       "    <tr>\n",
       "      <th>...</th>\n",
       "      <td>...</td>\n",
       "      <td>...</td>\n",
       "      <td>...</td>\n",
       "      <td>...</td>\n",
       "    </tr>\n",
       "    <tr>\n",
       "      <th>44201</th>\n",
       "      <td>F7341069C4A4</td>\n",
       "      <td>-1</td>\n",
       "      <td>\"Oh man I didn't make the soccer team!\", yelle...</td>\n",
       "      <td>0</td>\n",
       "    </tr>\n",
       "    <tr>\n",
       "      <th>44202</th>\n",
       "      <td>AFE6E553DAC2</td>\n",
       "      <td>-1</td>\n",
       "      <td>I believe that using this technology could be ...</td>\n",
       "      <td>0</td>\n",
       "    </tr>\n",
       "    <tr>\n",
       "      <th>44203</th>\n",
       "      <td>falcon_180b_v1_600</td>\n",
       "      <td>92</td>\n",
       "      <td>The Face on Mars is a fascinating phenomenon t...</td>\n",
       "      <td>1</td>\n",
       "    </tr>\n",
       "    <tr>\n",
       "      <th>44204</th>\n",
       "      <td>A5F84C104693</td>\n",
       "      <td>-1</td>\n",
       "      <td>Texting &amp; Driving\\n\\nUsing your phone while dr...</td>\n",
       "      <td>0</td>\n",
       "    </tr>\n",
       "    <tr>\n",
       "      <th>44205</th>\n",
       "      <td>A148C659E98B</td>\n",
       "      <td>-1</td>\n",
       "      <td>Dear Principal,\\n\\nI have been really good thi...</td>\n",
       "      <td>0</td>\n",
       "    </tr>\n",
       "  </tbody>\n",
       "</table>\n",
       "<p>44206 rows × 4 columns</p>\n",
       "</div>"
      ],
      "text/plain": [
       "                       id  prompt_id  \\\n",
       "0            E897534557AF          0   \n",
       "1            DFBA34FFE11D         -1   \n",
       "2                af37ecf5         -1   \n",
       "3            5EC2696BAD78         -1   \n",
       "4         llama_70b_v1843          1   \n",
       "...                   ...        ...   \n",
       "44201        F7341069C4A4         -1   \n",
       "44202        AFE6E553DAC2         -1   \n",
       "44203  falcon_180b_v1_600         92   \n",
       "44204        A5F84C104693         -1   \n",
       "44205        A148C659E98B         -1   \n",
       "\n",
       "                                                    text  generated  \n",
       "0       In recent years, technology has had a profoun...          1  \n",
       "1      Should students participate in an extracurricu...          0  \n",
       "2      The electoral college is a symbol of mockery a...          0  \n",
       "3      This is why I think the principle should allow...          0  \n",
       "4      I strongly believe that meditation and mindful...          1  \n",
       "...                                                  ...        ...  \n",
       "44201  \"Oh man I didn't make the soccer team!\", yelle...          0  \n",
       "44202  I believe that using this technology could be ...          0  \n",
       "44203  The Face on Mars is a fascinating phenomenon t...          1  \n",
       "44204  Texting & Driving\\n\\nUsing your phone while dr...          0  \n",
       "44205  Dear Principal,\\n\\nI have been really good thi...          0  \n",
       "\n",
       "[44206 rows x 4 columns]"
      ]
     },
     "execution_count": 7,
     "metadata": {},
     "output_type": "execute_result"
    }
   ],
   "source": [
    "train = train[['id', 'prompt_id', 'text', 'generated']]\n",
    "train"
   ]
  },
  {
   "cell_type": "markdown",
   "id": "b6ad1302",
   "metadata": {
    "papermill": {
     "duration": 0.007998,
     "end_time": "2024-04-09T19:58:46.887530",
     "exception": false,
     "start_time": "2024-04-09T19:58:46.879532",
     "status": "completed"
    },
    "tags": []
   },
   "source": [
    "RDizzl3_seven is a boolean indicating whether the essays were written in response to one of the seven essay prompts for the competition."
   ]
  },
  {
   "cell_type": "markdown",
   "id": "ce50304c",
   "metadata": {
    "papermill": {
     "duration": 0.009124,
     "end_time": "2024-04-09T19:58:46.904591",
     "exception": false,
     "start_time": "2024-04-09T19:58:46.895467",
     "status": "completed"
    },
    "tags": []
   },
   "source": [
    "We need prompts that correspond to the two prompts of the competition 'Car-Free Cities' "
   ]
  },
  {
   "cell_type": "markdown",
   "id": "2ffda3bc",
   "metadata": {
    "papermill": {
     "duration": 0.006563,
     "end_time": "2024-04-09T19:58:46.918607",
     "exception": false,
     "start_time": "2024-04-09T19:58:46.912044",
     "status": "completed"
    },
    "tags": []
   },
   "source": [
    "The train and test files need to have the same columns for ease of training"
   ]
  },
  {
   "cell_type": "code",
   "execution_count": 8,
   "id": "c3154282",
   "metadata": {
    "execution": {
     "iopub.execute_input": "2024-04-09T19:58:46.935576Z",
     "iopub.status.busy": "2024-04-09T19:58:46.934745Z",
     "iopub.status.idle": "2024-04-09T19:58:46.946431Z",
     "shell.execute_reply": "2024-04-09T19:58:46.945458Z"
    },
    "papermill": {
     "duration": 0.022956,
     "end_time": "2024-04-09T19:58:46.948428",
     "exception": false,
     "start_time": "2024-04-09T19:58:46.925472",
     "status": "completed"
    },
    "tags": []
   },
   "outputs": [
    {
     "data": {
      "text/html": [
       "<div>\n",
       "<style scoped>\n",
       "    .dataframe tbody tr th:only-of-type {\n",
       "        vertical-align: middle;\n",
       "    }\n",
       "\n",
       "    .dataframe tbody tr th {\n",
       "        vertical-align: top;\n",
       "    }\n",
       "\n",
       "    .dataframe thead th {\n",
       "        text-align: right;\n",
       "    }\n",
       "</style>\n",
       "<table border=\"1\" class=\"dataframe\">\n",
       "  <thead>\n",
       "    <tr style=\"text-align: right;\">\n",
       "      <th></th>\n",
       "      <th>id</th>\n",
       "      <th>prompt_id</th>\n",
       "      <th>text</th>\n",
       "      <th>generated</th>\n",
       "    </tr>\n",
       "  </thead>\n",
       "  <tbody>\n",
       "    <tr>\n",
       "      <th>0</th>\n",
       "      <td>E897534557AF</td>\n",
       "      <td>0</td>\n",
       "      <td>In recent years, technology has had a profoun...</td>\n",
       "      <td>1</td>\n",
       "    </tr>\n",
       "    <tr>\n",
       "      <th>1</th>\n",
       "      <td>DFBA34FFE11D</td>\n",
       "      <td>-1</td>\n",
       "      <td>Should students participate in an extracurricu...</td>\n",
       "      <td>0</td>\n",
       "    </tr>\n",
       "    <tr>\n",
       "      <th>2</th>\n",
       "      <td>af37ecf5</td>\n",
       "      <td>-1</td>\n",
       "      <td>The electoral college is a symbol of mockery a...</td>\n",
       "      <td>0</td>\n",
       "    </tr>\n",
       "    <tr>\n",
       "      <th>3</th>\n",
       "      <td>5EC2696BAD78</td>\n",
       "      <td>-1</td>\n",
       "      <td>This is why I think the principle should allow...</td>\n",
       "      <td>0</td>\n",
       "    </tr>\n",
       "    <tr>\n",
       "      <th>4</th>\n",
       "      <td>llama_70b_v1843</td>\n",
       "      <td>1</td>\n",
       "      <td>I strongly believe that meditation and mindful...</td>\n",
       "      <td>1</td>\n",
       "    </tr>\n",
       "  </tbody>\n",
       "</table>\n",
       "</div>"
      ],
      "text/plain": [
       "                id  prompt_id  \\\n",
       "0     E897534557AF          0   \n",
       "1     DFBA34FFE11D         -1   \n",
       "2         af37ecf5         -1   \n",
       "3     5EC2696BAD78         -1   \n",
       "4  llama_70b_v1843          1   \n",
       "\n",
       "                                                text  generated  \n",
       "0   In recent years, technology has had a profoun...          1  \n",
       "1  Should students participate in an extracurricu...          0  \n",
       "2  The electoral college is a symbol of mockery a...          0  \n",
       "3  This is why I think the principle should allow...          0  \n",
       "4  I strongly believe that meditation and mindful...          1  "
      ]
     },
     "execution_count": 8,
     "metadata": {},
     "output_type": "execute_result"
    }
   ],
   "source": [
    "train.head()"
   ]
  },
  {
   "cell_type": "markdown",
   "id": "cd489720",
   "metadata": {
    "papermill": {
     "duration": 0.006616,
     "end_time": "2024-04-09T19:58:46.961875",
     "exception": false,
     "start_time": "2024-04-09T19:58:46.955259",
     "status": "completed"
    },
    "tags": []
   },
   "source": [
    "TF-IDF"
   ]
  },
  {
   "cell_type": "code",
   "execution_count": 9,
   "id": "37f9fe20",
   "metadata": {
    "execution": {
     "iopub.execute_input": "2024-04-09T19:58:46.977090Z",
     "iopub.status.busy": "2024-04-09T19:58:46.976754Z",
     "iopub.status.idle": "2024-04-09T19:59:03.055599Z",
     "shell.execute_reply": "2024-04-09T19:59:03.054601Z"
    },
    "papermill": {
     "duration": 16.089623,
     "end_time": "2024-04-09T19:59:03.058323",
     "exception": false,
     "start_time": "2024-04-09T19:58:46.968700",
     "status": "completed"
    },
    "tags": []
   },
   "outputs": [],
   "source": [
    "df = pd.concat([train['text'], test['text']], axis=0)\n",
    "\n",
    "vectorizer = TfidfVectorizer(stop_words='english', max_features=50000)\n",
    "X = vectorizer.fit_transform(df)"
   ]
  },
  {
   "cell_type": "code",
   "execution_count": 10,
   "id": "02dfcf93",
   "metadata": {
    "execution": {
     "iopub.execute_input": "2024-04-09T19:59:03.074734Z",
     "iopub.status.busy": "2024-04-09T19:59:03.073826Z",
     "iopub.status.idle": "2024-04-09T19:59:03.080146Z",
     "shell.execute_reply": "2024-04-09T19:59:03.079221Z"
    },
    "papermill": {
     "duration": 0.016687,
     "end_time": "2024-04-09T19:59:03.082304",
     "exception": false,
     "start_time": "2024-04-09T19:59:03.065617",
     "status": "completed"
    },
    "tags": []
   },
   "outputs": [
    {
     "data": {
      "text/plain": [
       "<44209x50000 sparse matrix of type '<class 'numpy.float64'>'\n",
       "\twith 4519264 stored elements in Compressed Sparse Row format>"
      ]
     },
     "execution_count": 10,
     "metadata": {},
     "output_type": "execute_result"
    }
   ],
   "source": [
    "X"
   ]
  },
  {
   "cell_type": "code",
   "execution_count": 11,
   "id": "1c66225f",
   "metadata": {
    "execution": {
     "iopub.execute_input": "2024-04-09T19:59:03.098442Z",
     "iopub.status.busy": "2024-04-09T19:59:03.097622Z",
     "iopub.status.idle": "2024-04-09T20:03:29.238486Z",
     "shell.execute_reply": "2024-04-09T20:03:29.236986Z"
    },
    "papermill": {
     "duration": 266.152182,
     "end_time": "2024-04-09T20:03:29.241655",
     "exception": false,
     "start_time": "2024-04-09T19:59:03.089473",
     "status": "completed"
    },
    "tags": []
   },
   "outputs": [
    {
     "name": "stdout",
     "output_type": "stream",
     "text": [
      "ROC AUC for fold 1: 0.9974\n",
      "ROC AUC for fold 2: 0.9988\n",
      "ROC AUC for fold 3: 0.9979\n",
      "ROC AUC for fold 4: 0.9986\n",
      "ROC AUC for fold 5: 0.9986\n",
      "Average ROC AUC: 0.9983\n",
      "Standard deviation: 0.0005\n"
     ]
    }
   ],
   "source": [
    "xgb_model = XGBClassifier()\n",
    "cv = StratifiedKFold(n_splits=5, shuffle=True)\n",
    "auc_scores = []\n",
    "\n",
    "# Split the data into training and validation for each fold\n",
    "for train_idx, val_idx in cv.split(X[:train.shape[0]], train['generated']):\n",
    "    X_train, X_val = X[:train.shape[0]][train_idx], X[:train.shape[0]][val_idx]\n",
    "    y_train, y_val = train['generated'].iloc[train_idx], train['generated'].iloc[val_idx]\n",
    "\n",
    "    # Train the model on the training data\n",
    "    xgb_model.fit(X_train, y_train)\n",
    "    \n",
    "    # Predict probabilities for the positive class on the validation data\n",
    "    preds_val_xgb = xgb_model.predict_proba(X_val)[:, 1]\n",
    "    \n",
    "    # Calculate ROC AUC score for the validation set\n",
    "    auc_score = roc_auc_score(y_val, preds_val_xgb)\n",
    "    auc_scores.append(auc_score)\n",
    "\n",
    "# Print the scores for each fold\n",
    "for i, score in enumerate(auc_scores, 1):\n",
    "    print(f'ROC AUC for fold {i}: {score:.4f}')\n",
    "\n",
    "print('Average ROC AUC:', round(sum(auc_scores)/len(auc_scores), 4))\n",
    "print('Standard deviation:', round((sum([(x - sum(auc_scores)/len(auc_scores))**2 for x in auc_scores])/len(auc_scores))**0.5, 4))"
   ]
  },
  {
   "cell_type": "code",
   "execution_count": 12,
   "id": "6eb755f4",
   "metadata": {
    "execution": {
     "iopub.execute_input": "2024-04-09T20:03:29.259268Z",
     "iopub.status.busy": "2024-04-09T20:03:29.258884Z",
     "iopub.status.idle": "2024-04-09T20:03:29.502877Z",
     "shell.execute_reply": "2024-04-09T20:03:29.502098Z"
    },
    "papermill": {
     "duration": 0.255403,
     "end_time": "2024-04-09T20:03:29.505279",
     "exception": false,
     "start_time": "2024-04-09T20:03:29.249876",
     "status": "completed"
    },
    "tags": []
   },
   "outputs": [
    {
     "name": "stdout",
     "output_type": "stream",
     "text": [
      "ROC AUC train: 0.9997550986502114\n"
     ]
    }
   ],
   "source": [
    "preds_train = xgb_model.predict_proba(X[:train.shape[0]])[:,1]\n",
    "preds_test = xgb_model.predict_proba(X[train.shape[0]:])[:,1]\n",
    "print('ROC AUC train:', roc_auc_score(train['generated'], preds_train))"
   ]
  },
  {
   "cell_type": "code",
   "execution_count": 13,
   "id": "9924d0ec",
   "metadata": {
    "execution": {
     "iopub.execute_input": "2024-04-09T20:03:29.521763Z",
     "iopub.status.busy": "2024-04-09T20:03:29.521428Z",
     "iopub.status.idle": "2024-04-09T20:03:29.530492Z",
     "shell.execute_reply": "2024-04-09T20:03:29.529472Z"
    },
    "papermill": {
     "duration": 0.019299,
     "end_time": "2024-04-09T20:03:29.532707",
     "exception": false,
     "start_time": "2024-04-09T20:03:29.513408",
     "status": "completed"
    },
    "tags": []
   },
   "outputs": [],
   "source": [
    "pd.DataFrame({'id':test[\"id\"],'generated':preds_test}).to_csv('submission.csv', index=False)"
   ]
  }
 ],
 "metadata": {
  "kaggle": {
   "accelerator": "none",
   "dataSources": [
    {
     "databundleVersionId": 7516023,
     "sourceId": 61542,
     "sourceType": "competition"
    },
    {
     "datasetId": 3942644,
     "sourceId": 6890527,
     "sourceType": "datasetVersion"
    }
   ],
   "dockerImageVersionId": 30684,
   "isGpuEnabled": false,
   "isInternetEnabled": false,
   "language": "python",
   "sourceType": "notebook"
  },
  "kernelspec": {
   "display_name": "Python 3",
   "language": "python",
   "name": "python3"
  },
  "language_info": {
   "codemirror_mode": {
    "name": "ipython",
    "version": 3
   },
   "file_extension": ".py",
   "mimetype": "text/x-python",
   "name": "python",
   "nbconvert_exporter": "python",
   "pygments_lexer": "ipython3",
   "version": "3.10.13"
  },
  "papermill": {
   "default_parameters": {},
   "duration": 291.98021,
   "end_time": "2024-04-09T20:03:30.060104",
   "environment_variables": {},
   "exception": null,
   "input_path": "__notebook__.ipynb",
   "output_path": "__notebook__.ipynb",
   "parameters": {},
   "start_time": "2024-04-09T19:58:38.079894",
   "version": "2.5.0"
  }
 },
 "nbformat": 4,
 "nbformat_minor": 5
}
