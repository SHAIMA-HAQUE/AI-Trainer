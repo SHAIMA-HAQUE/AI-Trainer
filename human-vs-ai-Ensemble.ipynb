{
 "cells": [
  {
   "cell_type": "code",
   "execution_count": 1,
   "id": "55788025",
   "metadata": {
    "_cell_guid": "b1076dfc-b9ad-4769-8c92-a6c4dae69d19",
    "_uuid": "8f2839f25d086af736a60e9eeb907d3b93b6e0e5",
    "execution": {
     "iopub.execute_input": "2024-04-09T21:06:12.829056Z",
     "iopub.status.busy": "2024-04-09T21:06:12.828692Z",
     "iopub.status.idle": "2024-04-09T21:06:13.622726Z",
     "shell.execute_reply": "2024-04-09T21:06:13.621781Z"
    },
    "papermill": {
     "duration": 0.805583,
     "end_time": "2024-04-09T21:06:13.625131",
     "exception": false,
     "start_time": "2024-04-09T21:06:12.819548",
     "status": "completed"
    },
    "tags": []
   },
   "outputs": [
    {
     "name": "stdout",
     "output_type": "stream",
     "text": [
      "/kaggle/input/llm-detect-ai-generated-text/sample_submission.csv\n",
      "/kaggle/input/llm-detect-ai-generated-text/train_prompts.csv\n",
      "/kaggle/input/llm-detect-ai-generated-text/test_essays.csv\n",
      "/kaggle/input/llm-detect-ai-generated-text/train_essays.csv\n",
      "/kaggle/input/daigt-proper-train-dataset/train_drcat_03.csv\n",
      "/kaggle/input/daigt-proper-train-dataset/train_drcat_02.csv\n",
      "/kaggle/input/daigt-proper-train-dataset/train_drcat_04.csv\n",
      "/kaggle/input/daigt-proper-train-dataset/train_drcat_01.csv\n"
     ]
    }
   ],
   "source": [
    "# This Python 3 environment comes with many helpful analytics libraries installed\n",
    "# It is defined by the kaggle/python Docker image: https://github.com/kaggle/docker-python\n",
    "# For example, here's several helpful packages to load\n",
    "\n",
    "import numpy as np # linear algebra\n",
    "import pandas as pd # data processing, CSV file I/O (e.g. pd.read_csv)\n",
    "\n",
    "# Input data files are available in the read-only \"../input/\" directory\n",
    "# For example, running this (by clicking run or pressing Shift+Enter) will list all files under the input directory\n",
    "\n",
    "import os\n",
    "for dirname, _, filenames in os.walk('/kaggle/input'):\n",
    "    for filename in filenames:\n",
    "        print(os.path.join(dirname, filename))\n",
    "\n",
    "# You can write up to 20GB to the current directory (/kaggle/working/) that gets preserved as output when you create a version using \"Save & Run All\" \n",
    "# You can also write temporary files to /kaggle/temp/, but they won't be saved outside of the current session"
   ]
  },
  {
   "cell_type": "markdown",
   "id": "8315b930",
   "metadata": {
    "papermill": {
     "duration": 0.007324,
     "end_time": "2024-04-09T21:06:13.639633",
     "exception": false,
     "start_time": "2024-04-09T21:06:13.632309",
     "status": "completed"
    },
    "tags": []
   },
   "source": [
    "Trying a simple approach for text classification which is to convert text passages into vectors and then use standard ML algorithms such as logistic regression or tree-based models\n",
    "\n",
    "Instead of using Deep learning methods we can use statistical methods like tf-idf + machine learning algorithms"
   ]
  },
  {
   "cell_type": "code",
   "execution_count": 2,
   "id": "9f5b3d2e",
   "metadata": {
    "execution": {
     "iopub.execute_input": "2024-04-09T21:06:13.655198Z",
     "iopub.status.busy": "2024-04-09T21:06:13.654765Z",
     "iopub.status.idle": "2024-04-09T21:06:15.501802Z",
     "shell.execute_reply": "2024-04-09T21:06:15.500927Z"
    },
    "papermill": {
     "duration": 1.857641,
     "end_time": "2024-04-09T21:06:15.504385",
     "exception": false,
     "start_time": "2024-04-09T21:06:13.646744",
     "status": "completed"
    },
    "tags": []
   },
   "outputs": [],
   "source": [
    "import numpy as np\n",
    "import pandas as pd\n",
    "from sklearn.metrics import roc_auc_score\n",
    "from sklearn.linear_model import LogisticRegression\n",
    "import xgboost as xgb\n",
    "from xgboost import XGBClassifier\n",
    "from catboost import CatBoostClassifier\n",
    "from sklearn.naive_bayes import GaussianNB\n",
    "from sklearn.model_selection import StratifiedKFold\n",
    "from sklearn.model_selection import KFold\n",
    "from sklearn.feature_extraction.text import TfidfVectorizer\n",
    "from sklearn.feature_extraction.text import CountVectorizer\n",
    "from sklearn.model_selection import train_test_split\n",
    "from sklearn.ensemble import VotingClassifier\n",
    "from sklearn.metrics import classification_report"
   ]
  },
  {
   "cell_type": "markdown",
   "id": "73fb14c3",
   "metadata": {
    "papermill": {
     "duration": 0.007314,
     "end_time": "2024-04-09T21:06:15.519413",
     "exception": false,
     "start_time": "2024-04-09T21:06:15.512099",
     "status": "completed"
    },
    "tags": []
   },
   "source": [
    "This time will consider the LLM-Detect AI Generated Text as test data and daigt as train data"
   ]
  },
  {
   "cell_type": "code",
   "execution_count": 3,
   "id": "93e062f2",
   "metadata": {
    "execution": {
     "iopub.execute_input": "2024-04-09T21:06:15.535796Z",
     "iopub.status.busy": "2024-04-09T21:06:15.535000Z",
     "iopub.status.idle": "2024-04-09T21:06:18.008109Z",
     "shell.execute_reply": "2024-04-09T21:06:18.007260Z"
    },
    "papermill": {
     "duration": 2.483813,
     "end_time": "2024-04-09T21:06:18.010471",
     "exception": false,
     "start_time": "2024-04-09T21:06:15.526658",
     "status": "completed"
    },
    "tags": []
   },
   "outputs": [],
   "source": [
    "train = pd.read_csv('/kaggle/input/daigt-proper-train-dataset/train_drcat_04.csv')\n",
    "test = pd.read_csv('/kaggle/input/llm-detect-ai-generated-text/test_essays.csv')\n"
   ]
  },
  {
   "cell_type": "code",
   "execution_count": 4,
   "id": "58979138",
   "metadata": {
    "execution": {
     "iopub.execute_input": "2024-04-09T21:06:18.027561Z",
     "iopub.status.busy": "2024-04-09T21:06:18.027225Z",
     "iopub.status.idle": "2024-04-09T21:06:18.045217Z",
     "shell.execute_reply": "2024-04-09T21:06:18.044212Z"
    },
    "papermill": {
     "duration": 0.028951,
     "end_time": "2024-04-09T21:06:18.047459",
     "exception": false,
     "start_time": "2024-04-09T21:06:18.018508",
     "status": "completed"
    },
    "tags": []
   },
   "outputs": [
    {
     "data": {
      "text/html": [
       "<div>\n",
       "<style scoped>\n",
       "    .dataframe tbody tr th:only-of-type {\n",
       "        vertical-align: middle;\n",
       "    }\n",
       "\n",
       "    .dataframe tbody tr th {\n",
       "        vertical-align: top;\n",
       "    }\n",
       "\n",
       "    .dataframe thead th {\n",
       "        text-align: right;\n",
       "    }\n",
       "</style>\n",
       "<table border=\"1\" class=\"dataframe\">\n",
       "  <thead>\n",
       "    <tr style=\"text-align: right;\">\n",
       "      <th></th>\n",
       "      <th>essay_id</th>\n",
       "      <th>text</th>\n",
       "      <th>label</th>\n",
       "      <th>source</th>\n",
       "      <th>prompt</th>\n",
       "      <th>fold</th>\n",
       "    </tr>\n",
       "  </thead>\n",
       "  <tbody>\n",
       "    <tr>\n",
       "      <th>0</th>\n",
       "      <td>E897534557AF</td>\n",
       "      <td>In recent years, technology has had a profoun...</td>\n",
       "      <td>1</td>\n",
       "      <td>mistral7binstruct_v2</td>\n",
       "      <td>\\nTask: Write an essay discussing the positive...</td>\n",
       "      <td>1</td>\n",
       "    </tr>\n",
       "    <tr>\n",
       "      <th>1</th>\n",
       "      <td>DFBA34FFE11D</td>\n",
       "      <td>Should students participate in an extracurricu...</td>\n",
       "      <td>0</td>\n",
       "      <td>persuade_corpus</td>\n",
       "      <td>NaN</td>\n",
       "      <td>2</td>\n",
       "    </tr>\n",
       "    <tr>\n",
       "      <th>2</th>\n",
       "      <td>af37ecf5</td>\n",
       "      <td>The electoral college is a symbol of mockery a...</td>\n",
       "      <td>0</td>\n",
       "      <td>train_essays</td>\n",
       "      <td>NaN</td>\n",
       "      <td>5</td>\n",
       "    </tr>\n",
       "    <tr>\n",
       "      <th>3</th>\n",
       "      <td>5EC2696BAD78</td>\n",
       "      <td>This is why I think the principle should allow...</td>\n",
       "      <td>0</td>\n",
       "      <td>persuade_corpus</td>\n",
       "      <td>NaN</td>\n",
       "      <td>8</td>\n",
       "    </tr>\n",
       "    <tr>\n",
       "      <th>4</th>\n",
       "      <td>llama_70b_v1843</td>\n",
       "      <td>I strongly believe that meditation and mindful...</td>\n",
       "      <td>1</td>\n",
       "      <td>llama_70b_v1</td>\n",
       "      <td>Some schools have implemented meditation and m...</td>\n",
       "      <td>0</td>\n",
       "    </tr>\n",
       "  </tbody>\n",
       "</table>\n",
       "</div>"
      ],
      "text/plain": [
       "          essay_id                                               text  label  \\\n",
       "0     E897534557AF   In recent years, technology has had a profoun...      1   \n",
       "1     DFBA34FFE11D  Should students participate in an extracurricu...      0   \n",
       "2         af37ecf5  The electoral college is a symbol of mockery a...      0   \n",
       "3     5EC2696BAD78  This is why I think the principle should allow...      0   \n",
       "4  llama_70b_v1843  I strongly believe that meditation and mindful...      1   \n",
       "\n",
       "                 source                                             prompt  \\\n",
       "0  mistral7binstruct_v2  \\nTask: Write an essay discussing the positive...   \n",
       "1       persuade_corpus                                                NaN   \n",
       "2          train_essays                                                NaN   \n",
       "3       persuade_corpus                                                NaN   \n",
       "4          llama_70b_v1  Some schools have implemented meditation and m...   \n",
       "\n",
       "   fold  \n",
       "0     1  \n",
       "1     2  \n",
       "2     5  \n",
       "3     8  \n",
       "4     0  "
      ]
     },
     "execution_count": 4,
     "metadata": {},
     "output_type": "execute_result"
    }
   ],
   "source": [
    "train.head()"
   ]
  },
  {
   "cell_type": "code",
   "execution_count": 5,
   "id": "4257d8e1",
   "metadata": {
    "execution": {
     "iopub.execute_input": "2024-04-09T21:06:18.065753Z",
     "iopub.status.busy": "2024-04-09T21:06:18.065132Z",
     "iopub.status.idle": "2024-04-09T21:06:18.372657Z",
     "shell.execute_reply": "2024-04-09T21:06:18.371501Z"
    },
    "papermill": {
     "duration": 0.319441,
     "end_time": "2024-04-09T21:06:18.375182",
     "exception": false,
     "start_time": "2024-04-09T21:06:18.055741",
     "status": "completed"
    },
    "tags": []
   },
   "outputs": [
    {
     "name": "stdout",
     "output_type": "stream",
     "text": [
      "train: label\n",
      "0    29792\n",
      "1    14414\n",
      "Name: count, dtype: int64\n",
      "unique essays: 44155\n"
     ]
    }
   ],
   "source": [
    "print(\"train:\",train.label.value_counts())\n",
    "print(\"unique essays:\",train['text'].nunique())"
   ]
  },
  {
   "cell_type": "code",
   "execution_count": 6,
   "id": "0c0701df",
   "metadata": {
    "execution": {
     "iopub.execute_input": "2024-04-09T21:06:18.394773Z",
     "iopub.status.busy": "2024-04-09T21:06:18.394042Z",
     "iopub.status.idle": "2024-04-09T21:06:18.408158Z",
     "shell.execute_reply": "2024-04-09T21:06:18.407191Z"
    },
    "papermill": {
     "duration": 0.02684,
     "end_time": "2024-04-09T21:06:18.410397",
     "exception": false,
     "start_time": "2024-04-09T21:06:18.383557",
     "status": "completed"
    },
    "tags": []
   },
   "outputs": [],
   "source": [
    "train.rename(columns = {'essay_id': 'id',\n",
    "                        'label' : 'generated',\n",
    "                        'prompt': 'prompt_id'}, inplace=True)\n",
    "train['prompt_id'] = pd.factorize(train['prompt_id'])[0]"
   ]
  },
  {
   "cell_type": "code",
   "execution_count": 7,
   "id": "98fe01e0",
   "metadata": {
    "execution": {
     "iopub.execute_input": "2024-04-09T21:06:18.427909Z",
     "iopub.status.busy": "2024-04-09T21:06:18.427599Z",
     "iopub.status.idle": "2024-04-09T21:06:18.449675Z",
     "shell.execute_reply": "2024-04-09T21:06:18.448687Z"
    },
    "papermill": {
     "duration": 0.033506,
     "end_time": "2024-04-09T21:06:18.452186",
     "exception": false,
     "start_time": "2024-04-09T21:06:18.418680",
     "status": "completed"
    },
    "tags": []
   },
   "outputs": [
    {
     "data": {
      "text/html": [
       "<div>\n",
       "<style scoped>\n",
       "    .dataframe tbody tr th:only-of-type {\n",
       "        vertical-align: middle;\n",
       "    }\n",
       "\n",
       "    .dataframe tbody tr th {\n",
       "        vertical-align: top;\n",
       "    }\n",
       "\n",
       "    .dataframe thead th {\n",
       "        text-align: right;\n",
       "    }\n",
       "</style>\n",
       "<table border=\"1\" class=\"dataframe\">\n",
       "  <thead>\n",
       "    <tr style=\"text-align: right;\">\n",
       "      <th></th>\n",
       "      <th>id</th>\n",
       "      <th>prompt_id</th>\n",
       "      <th>text</th>\n",
       "      <th>generated</th>\n",
       "    </tr>\n",
       "  </thead>\n",
       "  <tbody>\n",
       "    <tr>\n",
       "      <th>0</th>\n",
       "      <td>E897534557AF</td>\n",
       "      <td>0</td>\n",
       "      <td>In recent years, technology has had a profoun...</td>\n",
       "      <td>1</td>\n",
       "    </tr>\n",
       "    <tr>\n",
       "      <th>1</th>\n",
       "      <td>DFBA34FFE11D</td>\n",
       "      <td>-1</td>\n",
       "      <td>Should students participate in an extracurricu...</td>\n",
       "      <td>0</td>\n",
       "    </tr>\n",
       "    <tr>\n",
       "      <th>2</th>\n",
       "      <td>af37ecf5</td>\n",
       "      <td>-1</td>\n",
       "      <td>The electoral college is a symbol of mockery a...</td>\n",
       "      <td>0</td>\n",
       "    </tr>\n",
       "    <tr>\n",
       "      <th>3</th>\n",
       "      <td>5EC2696BAD78</td>\n",
       "      <td>-1</td>\n",
       "      <td>This is why I think the principle should allow...</td>\n",
       "      <td>0</td>\n",
       "    </tr>\n",
       "    <tr>\n",
       "      <th>4</th>\n",
       "      <td>llama_70b_v1843</td>\n",
       "      <td>1</td>\n",
       "      <td>I strongly believe that meditation and mindful...</td>\n",
       "      <td>1</td>\n",
       "    </tr>\n",
       "    <tr>\n",
       "      <th>...</th>\n",
       "      <td>...</td>\n",
       "      <td>...</td>\n",
       "      <td>...</td>\n",
       "      <td>...</td>\n",
       "    </tr>\n",
       "    <tr>\n",
       "      <th>44201</th>\n",
       "      <td>F7341069C4A4</td>\n",
       "      <td>-1</td>\n",
       "      <td>\"Oh man I didn't make the soccer team!\", yelle...</td>\n",
       "      <td>0</td>\n",
       "    </tr>\n",
       "    <tr>\n",
       "      <th>44202</th>\n",
       "      <td>AFE6E553DAC2</td>\n",
       "      <td>-1</td>\n",
       "      <td>I believe that using this technology could be ...</td>\n",
       "      <td>0</td>\n",
       "    </tr>\n",
       "    <tr>\n",
       "      <th>44203</th>\n",
       "      <td>falcon_180b_v1_600</td>\n",
       "      <td>92</td>\n",
       "      <td>The Face on Mars is a fascinating phenomenon t...</td>\n",
       "      <td>1</td>\n",
       "    </tr>\n",
       "    <tr>\n",
       "      <th>44204</th>\n",
       "      <td>A5F84C104693</td>\n",
       "      <td>-1</td>\n",
       "      <td>Texting &amp; Driving\\n\\nUsing your phone while dr...</td>\n",
       "      <td>0</td>\n",
       "    </tr>\n",
       "    <tr>\n",
       "      <th>44205</th>\n",
       "      <td>A148C659E98B</td>\n",
       "      <td>-1</td>\n",
       "      <td>Dear Principal,\\n\\nI have been really good thi...</td>\n",
       "      <td>0</td>\n",
       "    </tr>\n",
       "  </tbody>\n",
       "</table>\n",
       "<p>44206 rows × 4 columns</p>\n",
       "</div>"
      ],
      "text/plain": [
       "                       id  prompt_id  \\\n",
       "0            E897534557AF          0   \n",
       "1            DFBA34FFE11D         -1   \n",
       "2                af37ecf5         -1   \n",
       "3            5EC2696BAD78         -1   \n",
       "4         llama_70b_v1843          1   \n",
       "...                   ...        ...   \n",
       "44201        F7341069C4A4         -1   \n",
       "44202        AFE6E553DAC2         -1   \n",
       "44203  falcon_180b_v1_600         92   \n",
       "44204        A5F84C104693         -1   \n",
       "44205        A148C659E98B         -1   \n",
       "\n",
       "                                                    text  generated  \n",
       "0       In recent years, technology has had a profoun...          1  \n",
       "1      Should students participate in an extracurricu...          0  \n",
       "2      The electoral college is a symbol of mockery a...          0  \n",
       "3      This is why I think the principle should allow...          0  \n",
       "4      I strongly believe that meditation and mindful...          1  \n",
       "...                                                  ...        ...  \n",
       "44201  \"Oh man I didn't make the soccer team!\", yelle...          0  \n",
       "44202  I believe that using this technology could be ...          0  \n",
       "44203  The Face on Mars is a fascinating phenomenon t...          1  \n",
       "44204  Texting & Driving\\n\\nUsing your phone while dr...          0  \n",
       "44205  Dear Principal,\\n\\nI have been really good thi...          0  \n",
       "\n",
       "[44206 rows x 4 columns]"
      ]
     },
     "execution_count": 7,
     "metadata": {},
     "output_type": "execute_result"
    }
   ],
   "source": [
    "train = train[['id', 'prompt_id', 'text', 'generated']]\n",
    "train"
   ]
  },
  {
   "cell_type": "markdown",
   "id": "82c91014",
   "metadata": {
    "papermill": {
     "duration": 0.008183,
     "end_time": "2024-04-09T21:06:18.468949",
     "exception": false,
     "start_time": "2024-04-09T21:06:18.460766",
     "status": "completed"
    },
    "tags": []
   },
   "source": [
    "RDizzl3_seven is a boolean indicating whether the essays were written in response to one of the seven essay prompts for the competition."
   ]
  },
  {
   "cell_type": "markdown",
   "id": "79094cbe",
   "metadata": {
    "papermill": {
     "duration": 0.00801,
     "end_time": "2024-04-09T21:06:18.485164",
     "exception": false,
     "start_time": "2024-04-09T21:06:18.477154",
     "status": "completed"
    },
    "tags": []
   },
   "source": [
    "We need prompts that correspond to the two prompts of the competition 'Car-Free Cities' "
   ]
  },
  {
   "cell_type": "markdown",
   "id": "e4938861",
   "metadata": {
    "papermill": {
     "duration": 0.008176,
     "end_time": "2024-04-09T21:06:18.502191",
     "exception": false,
     "start_time": "2024-04-09T21:06:18.494015",
     "status": "completed"
    },
    "tags": []
   },
   "source": [
    "The train and test files need to have the same columns for ease of training"
   ]
  },
  {
   "cell_type": "code",
   "execution_count": 8,
   "id": "7bd18b27",
   "metadata": {
    "execution": {
     "iopub.execute_input": "2024-04-09T21:06:18.520339Z",
     "iopub.status.busy": "2024-04-09T21:06:18.520028Z",
     "iopub.status.idle": "2024-04-09T21:06:18.531418Z",
     "shell.execute_reply": "2024-04-09T21:06:18.530470Z"
    },
    "papermill": {
     "duration": 0.023182,
     "end_time": "2024-04-09T21:06:18.533472",
     "exception": false,
     "start_time": "2024-04-09T21:06:18.510290",
     "status": "completed"
    },
    "tags": []
   },
   "outputs": [
    {
     "data": {
      "text/html": [
       "<div>\n",
       "<style scoped>\n",
       "    .dataframe tbody tr th:only-of-type {\n",
       "        vertical-align: middle;\n",
       "    }\n",
       "\n",
       "    .dataframe tbody tr th {\n",
       "        vertical-align: top;\n",
       "    }\n",
       "\n",
       "    .dataframe thead th {\n",
       "        text-align: right;\n",
       "    }\n",
       "</style>\n",
       "<table border=\"1\" class=\"dataframe\">\n",
       "  <thead>\n",
       "    <tr style=\"text-align: right;\">\n",
       "      <th></th>\n",
       "      <th>id</th>\n",
       "      <th>prompt_id</th>\n",
       "      <th>text</th>\n",
       "      <th>generated</th>\n",
       "    </tr>\n",
       "  </thead>\n",
       "  <tbody>\n",
       "    <tr>\n",
       "      <th>0</th>\n",
       "      <td>E897534557AF</td>\n",
       "      <td>0</td>\n",
       "      <td>In recent years, technology has had a profoun...</td>\n",
       "      <td>1</td>\n",
       "    </tr>\n",
       "    <tr>\n",
       "      <th>1</th>\n",
       "      <td>DFBA34FFE11D</td>\n",
       "      <td>-1</td>\n",
       "      <td>Should students participate in an extracurricu...</td>\n",
       "      <td>0</td>\n",
       "    </tr>\n",
       "    <tr>\n",
       "      <th>2</th>\n",
       "      <td>af37ecf5</td>\n",
       "      <td>-1</td>\n",
       "      <td>The electoral college is a symbol of mockery a...</td>\n",
       "      <td>0</td>\n",
       "    </tr>\n",
       "    <tr>\n",
       "      <th>3</th>\n",
       "      <td>5EC2696BAD78</td>\n",
       "      <td>-1</td>\n",
       "      <td>This is why I think the principle should allow...</td>\n",
       "      <td>0</td>\n",
       "    </tr>\n",
       "    <tr>\n",
       "      <th>4</th>\n",
       "      <td>llama_70b_v1843</td>\n",
       "      <td>1</td>\n",
       "      <td>I strongly believe that meditation and mindful...</td>\n",
       "      <td>1</td>\n",
       "    </tr>\n",
       "  </tbody>\n",
       "</table>\n",
       "</div>"
      ],
      "text/plain": [
       "                id  prompt_id  \\\n",
       "0     E897534557AF          0   \n",
       "1     DFBA34FFE11D         -1   \n",
       "2         af37ecf5         -1   \n",
       "3     5EC2696BAD78         -1   \n",
       "4  llama_70b_v1843          1   \n",
       "\n",
       "                                                text  generated  \n",
       "0   In recent years, technology has had a profoun...          1  \n",
       "1  Should students participate in an extracurricu...          0  \n",
       "2  The electoral college is a symbol of mockery a...          0  \n",
       "3  This is why I think the principle should allow...          0  \n",
       "4  I strongly believe that meditation and mindful...          1  "
      ]
     },
     "execution_count": 8,
     "metadata": {},
     "output_type": "execute_result"
    }
   ],
   "source": [
    "train.head()"
   ]
  },
  {
   "cell_type": "markdown",
   "id": "a41988f0",
   "metadata": {
    "papermill": {
     "duration": 0.008411,
     "end_time": "2024-04-09T21:06:18.550744",
     "exception": false,
     "start_time": "2024-04-09T21:06:18.542333",
     "status": "completed"
    },
    "tags": []
   },
   "source": [
    "TF-IDF"
   ]
  },
  {
   "cell_type": "code",
   "execution_count": 9,
   "id": "ad858372",
   "metadata": {
    "execution": {
     "iopub.execute_input": "2024-04-09T21:06:18.568522Z",
     "iopub.status.busy": "2024-04-09T21:06:18.568195Z",
     "iopub.status.idle": "2024-04-09T21:06:34.125560Z",
     "shell.execute_reply": "2024-04-09T21:06:34.124418Z"
    },
    "papermill": {
     "duration": 15.569225,
     "end_time": "2024-04-09T21:06:34.128120",
     "exception": false,
     "start_time": "2024-04-09T21:06:18.558895",
     "status": "completed"
    },
    "tags": []
   },
   "outputs": [],
   "source": [
    "df = pd.concat([train['text'], test['text']], axis=0)\n",
    "\n",
    "vectorizer = TfidfVectorizer(stop_words='english', max_features=50000)\n",
    "X = vectorizer.fit_transform(df)"
   ]
  },
  {
   "cell_type": "markdown",
   "id": "35846aaf",
   "metadata": {
    "papermill": {
     "duration": 0.008261,
     "end_time": "2024-04-09T21:06:34.145283",
     "exception": false,
     "start_time": "2024-04-09T21:06:34.137022",
     "status": "completed"
    },
    "tags": []
   },
   "source": [
    "Ensemble learning with Logistic Regression, XGBoost"
   ]
  },
  {
   "cell_type": "markdown",
   "id": "6ad9a67a",
   "metadata": {
    "papermill": {
     "duration": 0.00842,
     "end_time": "2024-04-09T21:06:34.162516",
     "exception": false,
     "start_time": "2024-04-09T21:06:34.154096",
     "status": "completed"
    },
    "tags": []
   },
   "source": [
    "XGBoost"
   ]
  },
  {
   "cell_type": "code",
   "execution_count": 10,
   "id": "e72cd93a",
   "metadata": {
    "execution": {
     "iopub.execute_input": "2024-04-09T21:06:34.181245Z",
     "iopub.status.busy": "2024-04-09T21:06:34.180905Z",
     "iopub.status.idle": "2024-04-09T21:11:01.367785Z",
     "shell.execute_reply": "2024-04-09T21:11:01.366619Z"
    },
    "papermill": {
     "duration": 267.201069,
     "end_time": "2024-04-09T21:11:01.372179",
     "exception": false,
     "start_time": "2024-04-09T21:06:34.171110",
     "status": "completed"
    },
    "tags": []
   },
   "outputs": [
    {
     "name": "stdout",
     "output_type": "stream",
     "text": [
      "ROC AUC for fold 1: 0.9980\n",
      "ROC AUC for fold 2: 0.9985\n",
      "ROC AUC for fold 3: 0.9984\n",
      "ROC AUC for fold 4: 0.9981\n",
      "ROC AUC for fold 5: 0.9984\n",
      "Average ROC AUC: 0.9983\n",
      "Standard deviation: 0.0002\n"
     ]
    }
   ],
   "source": [
    "xgb_model = XGBClassifier()\n",
    "cv = StratifiedKFold(n_splits=5, shuffle=True)\n",
    "auc_scores = []\n",
    "\n",
    "# Split the data into training and validation for each fold\n",
    "for train_idx, val_idx in cv.split(X[:train.shape[0]], train['generated']):\n",
    "    X_train, X_val = X[:train.shape[0]][train_idx], X[:train.shape[0]][val_idx]\n",
    "    y_train, y_val = train['generated'].iloc[train_idx], train['generated'].iloc[val_idx]\n",
    "\n",
    "    # Train the model on the training data\n",
    "    xgb_model.fit(X_train, y_train)\n",
    "    \n",
    "    # Predict probabilities for the positive class on the validation data\n",
    "    preds_val_xgb = xgb_model.predict_proba(X_val)[:, 1]\n",
    "    \n",
    "    # Calculate ROC AUC score for the validation set\n",
    "    auc_score = roc_auc_score(y_val, preds_val_xgb)\n",
    "    auc_scores.append(auc_score)\n",
    "\n",
    "# Print the scores for each fold\n",
    "for i, score in enumerate(auc_scores, 1):\n",
    "    print(f'ROC AUC for fold {i}: {score:.4f}')\n",
    "\n",
    "print('Average ROC AUC:', round(sum(auc_scores)/len(auc_scores), 4))\n",
    "print('Standard deviation:', round((sum([(x - sum(auc_scores)/len(auc_scores))**2 for x in auc_scores])/len(auc_scores))**0.5, 4))"
   ]
  },
  {
   "cell_type": "markdown",
   "id": "72c59e67",
   "metadata": {
    "papermill": {
     "duration": 0.009014,
     "end_time": "2024-04-09T21:11:01.390829",
     "exception": false,
     "start_time": "2024-04-09T21:11:01.381815",
     "status": "completed"
    },
    "tags": []
   },
   "source": [
    "Logistic Regression"
   ]
  },
  {
   "cell_type": "code",
   "execution_count": 11,
   "id": "a57b5d49",
   "metadata": {
    "execution": {
     "iopub.execute_input": "2024-04-09T21:11:01.411115Z",
     "iopub.status.busy": "2024-04-09T21:11:01.410756Z",
     "iopub.status.idle": "2024-04-09T21:11:31.666916Z",
     "shell.execute_reply": "2024-04-09T21:11:31.665387Z"
    },
    "papermill": {
     "duration": 30.299827,
     "end_time": "2024-04-09T21:11:31.700181",
     "exception": false,
     "start_time": "2024-04-09T21:11:01.400354",
     "status": "completed"
    },
    "tags": []
   },
   "outputs": [
    {
     "name": "stdout",
     "output_type": "stream",
     "text": [
      "ROC AUC for fold 1: 0.9980\n",
      "ROC AUC for fold 2: 0.9969\n",
      "ROC AUC for fold 3: 0.9982\n",
      "ROC AUC for fold 4: 0.9973\n",
      "ROC AUC for fold 5: 0.9977\n",
      "Average ROC AUC: 0.9976\n",
      "Standard deviation: 0.0005\n"
     ]
    }
   ],
   "source": [
    "lr_model = LogisticRegression()\n",
    "cv = StratifiedKFold(n_splits=5, shuffle=True)\n",
    "auc_scores = []\n",
    "\n",
    "# Split the data into training and validation for each fold\n",
    "for train_idx, val_idx in cv.split(X[:train.shape[0]], train['generated']):\n",
    "    X_train, X_val = X[:train.shape[0]][train_idx], X[:train.shape[0]][val_idx]\n",
    "    y_train, y_val = train['generated'].iloc[train_idx], train['generated'].iloc[val_idx]\n",
    "\n",
    "    # Train the model on the training data\n",
    "    lr_model.fit(X_train, y_train)\n",
    "    \n",
    "    # Predict probabilities for the positive class on the validation data\n",
    "    preds_val_lr = lr_model.predict_proba(X_val)[:, 1]\n",
    "    \n",
    "    # Calculate ROC AUC score for the validation set\n",
    "    auc_score = roc_auc_score(y_val, preds_val_lr)\n",
    "    auc_scores.append(auc_score)\n",
    "\n",
    "# Print the scores for each fold\n",
    "for i, score in enumerate(auc_scores, 1):\n",
    "    print(f'ROC AUC for fold {i}: {score:.4f}')\n",
    "\n",
    "print('Average ROC AUC:', round(sum(auc_scores)/len(auc_scores), 4))\n",
    "print('Standard deviation:', round((sum([(x - sum(auc_scores)/len(auc_scores))**2 for x in auc_scores])/len(auc_scores))**0.5, 4))"
   ]
  },
  {
   "cell_type": "markdown",
   "id": "14fcd885",
   "metadata": {
    "papermill": {
     "duration": 0.017651,
     "end_time": "2024-04-09T21:11:31.744417",
     "exception": false,
     "start_time": "2024-04-09T21:11:31.726766",
     "status": "completed"
    },
    "tags": []
   },
   "source": [
    "CatBoost Classifier"
   ]
  },
  {
   "cell_type": "markdown",
   "id": "b39e506a",
   "metadata": {
    "papermill": {
     "duration": 0.009243,
     "end_time": "2024-04-09T21:11:31.767821",
     "exception": false,
     "start_time": "2024-04-09T21:11:31.758578",
     "status": "completed"
    },
    "tags": []
   },
   "source": [
    "Learning rate for CatBoost is taken from here - https://www.kaggle.com/code/batprem/llm-daigt-cv-0-9983-lb-0-960?scriptVersionId=153835105"
   ]
  },
  {
   "cell_type": "code",
   "execution_count": 12,
   "id": "aa12f8cc",
   "metadata": {
    "execution": {
     "iopub.execute_input": "2024-04-09T21:11:31.787531Z",
     "iopub.status.busy": "2024-04-09T21:11:31.787112Z",
     "iopub.status.idle": "2024-04-09T21:12:00.190618Z",
     "shell.execute_reply": "2024-04-09T21:12:00.189586Z"
    },
    "papermill": {
     "duration": 28.41644,
     "end_time": "2024-04-09T21:12:00.193305",
     "exception": false,
     "start_time": "2024-04-09T21:11:31.776865",
     "status": "completed"
    },
    "tags": []
   },
   "outputs": [
    {
     "name": "stdout",
     "output_type": "stream",
     "text": [
      "ROC AUC for fold 1: 0.9980\n",
      "ROC AUC for fold 2: 0.9969\n",
      "ROC AUC for fold 3: 0.9982\n",
      "ROC AUC for fold 4: 0.9973\n",
      "ROC AUC for fold 5: 0.9977\n",
      "ROC AUC for fold 6: 0.8769\n",
      "ROC AUC for fold 7: 0.8723\n",
      "ROC AUC for fold 8: 0.8600\n",
      "ROC AUC for fold 9: 0.8717\n",
      "ROC AUC for fold 10: 0.8667\n",
      "Average ROC AUC: 0.9336\n",
      "Standard deviation: 0.0642\n"
     ]
    }
   ],
   "source": [
    "cat=CatBoostClassifier(iterations=1,\n",
    "                           verbose=0,\n",
    "                           random_seed=6543,\n",
    "                           learning_rate=0.005599066836106983,\n",
    "                           subsample = 0.35,\n",
    "                           allow_const_label=True,loss_function = 'CrossEntropy')\n",
    "for train_idx, val_idx in cv.split(X[:train.shape[0]], train['generated']):\n",
    "    X_train, X_val = X[:train.shape[0]][train_idx], X[:train.shape[0]][val_idx]\n",
    "    y_train, y_val = train['generated'].iloc[train_idx], train['generated'].iloc[val_idx]\n",
    "\n",
    "    # Train the model on the training data\n",
    "    cat.fit(X_train, y_train)\n",
    "    \n",
    "    # Predict probabilities for the positive class on the validation data\n",
    "    preds_val_lr = cat.predict_proba(X_val)[:, 1]\n",
    "    \n",
    "    # Calculate ROC AUC score for the validation set\n",
    "    auc_score = roc_auc_score(y_val, preds_val_lr)\n",
    "    auc_scores.append(auc_score)\n",
    "\n",
    "# Print the scores for each fold\n",
    "for i, score in enumerate(auc_scores, 1):\n",
    "    print(f'ROC AUC for fold {i}: {score:.4f}')\n",
    "\n",
    "print('Average ROC AUC:', round(sum(auc_scores)/len(auc_scores), 4))\n",
    "print('Standard deviation:', round((sum([(x - sum(auc_scores)/len(auc_scores))**2 for x in auc_scores])/len(auc_scores))**0.5, 4))"
   ]
  },
  {
   "cell_type": "code",
   "execution_count": 13,
   "id": "425d909b",
   "metadata": {
    "execution": {
     "iopub.execute_input": "2024-04-09T21:12:00.214438Z",
     "iopub.status.busy": "2024-04-09T21:12:00.214068Z",
     "iopub.status.idle": "2024-04-09T21:12:00.707277Z",
     "shell.execute_reply": "2024-04-09T21:12:00.705990Z"
    },
    "papermill": {
     "duration": 0.505637,
     "end_time": "2024-04-09T21:12:00.709570",
     "exception": false,
     "start_time": "2024-04-09T21:12:00.203933",
     "status": "completed"
    },
    "tags": []
   },
   "outputs": [
    {
     "name": "stdout",
     "output_type": "stream",
     "text": [
      "ROC AUC train: 0.8715381433933801\n"
     ]
    }
   ],
   "source": [
    "preds_train = cat.predict_proba(X[:train.shape[0]])[:,1]\n",
    "preds_test = cat.predict_proba(X[train.shape[0]:])[:,1]\n",
    "print('ROC AUC train:', roc_auc_score(train['generated'], preds_train))"
   ]
  },
  {
   "cell_type": "code",
   "execution_count": 14,
   "id": "6f5d642b",
   "metadata": {
    "execution": {
     "iopub.execute_input": "2024-04-09T21:12:00.728504Z",
     "iopub.status.busy": "2024-04-09T21:12:00.728190Z",
     "iopub.status.idle": "2024-04-09T21:13:04.896378Z",
     "shell.execute_reply": "2024-04-09T21:13:04.895310Z"
    },
    "papermill": {
     "duration": 64.188428,
     "end_time": "2024-04-09T21:13:04.907246",
     "exception": false,
     "start_time": "2024-04-09T21:12:00.718818",
     "status": "completed"
    },
    "tags": []
   },
   "outputs": [
    {
     "name": "stdout",
     "output_type": "stream",
     "text": [
      "              precision    recall  f1-score   support\n",
      "\n",
      "           0       0.99      1.00      0.99      5959\n",
      "           1       0.99      0.97      0.98      2882\n",
      "\n",
      "    accuracy                           0.99      8841\n",
      "   macro avg       0.99      0.99      0.99      8841\n",
      "weighted avg       0.99      0.99      0.99      8841\n",
      "\n",
      "Accuracy: 0.9854892365934744\n",
      "\n"
     ]
    }
   ],
   "source": [
    "# Create the ensemble model\n",
    "ensemble = VotingClassifier(estimators=[('lr', lr_model), ('xgb', xgb_model), ('cat', cat)], voting='soft')\n",
    "\n",
    "ensemble.fit(X_train, y_train)\n",
    "\n",
    "# Predict on the validation set\n",
    "y_pred = ensemble.predict(X_val)\n",
    "\n",
    "# Print the classification report\n",
    "print(classification_report(y_val, y_pred))\n",
    "\n",
    "# Print the accuracy score\n",
    "print(f'Accuracy: {roc_auc_score(y_val, y_pred)}\\n')"
   ]
  },
  {
   "cell_type": "code",
   "execution_count": 15,
   "id": "3b3d3c3c",
   "metadata": {
    "execution": {
     "iopub.execute_input": "2024-04-09T21:13:04.926280Z",
     "iopub.status.busy": "2024-04-09T21:13:04.925946Z",
     "iopub.status.idle": "2024-04-09T21:13:05.611660Z",
     "shell.execute_reply": "2024-04-09T21:13:05.610279Z"
    },
    "papermill": {
     "duration": 0.698264,
     "end_time": "2024-04-09T21:13:05.614511",
     "exception": false,
     "start_time": "2024-04-09T21:13:04.916247",
     "status": "completed"
    },
    "tags": []
   },
   "outputs": [
    {
     "name": "stdout",
     "output_type": "stream",
     "text": [
      "ROC AUC train: 0.9997814398785374\n"
     ]
    }
   ],
   "source": [
    "preds_train = ensemble.predict_proba(X[:train.shape[0]])[:,1]\n",
    "preds_test = ensemble.predict_proba(X[train.shape[0]:])[:,1]\n",
    "print('ROC AUC train:', roc_auc_score(train['generated'], preds_train))"
   ]
  },
  {
   "cell_type": "code",
   "execution_count": 16,
   "id": "e45411d8",
   "metadata": {
    "execution": {
     "iopub.execute_input": "2024-04-09T21:13:05.636329Z",
     "iopub.status.busy": "2024-04-09T21:13:05.636006Z",
     "iopub.status.idle": "2024-04-09T21:13:05.643607Z",
     "shell.execute_reply": "2024-04-09T21:13:05.642837Z"
    },
    "papermill": {
     "duration": 0.020381,
     "end_time": "2024-04-09T21:13:05.645847",
     "exception": false,
     "start_time": "2024-04-09T21:13:05.625466",
     "status": "completed"
    },
    "tags": []
   },
   "outputs": [],
   "source": [
    "pd.DataFrame({'id':test[\"id\"],'generated':preds_test}).to_csv('submission.csv', index=False)"
   ]
  }
 ],
 "metadata": {
  "kaggle": {
   "accelerator": "gpu",
   "dataSources": [
    {
     "databundleVersionId": 7516023,
     "sourceId": 61542,
     "sourceType": "competition"
    },
    {
     "datasetId": 3942644,
     "sourceId": 6890527,
     "sourceType": "datasetVersion"
    }
   ],
   "dockerImageVersionId": 30684,
   "isGpuEnabled": true,
   "isInternetEnabled": false,
   "language": "python",
   "sourceType": "notebook"
  },
  "kernelspec": {
   "display_name": "Python 3",
   "language": "python",
   "name": "python3"
  },
  "language_info": {
   "codemirror_mode": {
    "name": "ipython",
    "version": 3
   },
   "file_extension": ".py",
   "mimetype": "text/x-python",
   "name": "python",
   "nbconvert_exporter": "python",
   "pygments_lexer": "ipython3",
   "version": "3.10.13"
  },
  "papermill": {
   "default_parameters": {},
   "duration": 416.421812,
   "end_time": "2024-04-09T21:13:06.276576",
   "environment_variables": {},
   "exception": null,
   "input_path": "__notebook__.ipynb",
   "output_path": "__notebook__.ipynb",
   "parameters": {},
   "start_time": "2024-04-09T21:06:09.854764",
   "version": "2.5.0"
  }
 },
 "nbformat": 4,
 "nbformat_minor": 5
}
